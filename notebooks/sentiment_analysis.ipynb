{
 "cells": [
  {
   "cell_type": "markdown",
   "id": "1e5477a4",
   "metadata": {},
   "source": [
    "# Sentiment Analysis — EDA & Baseline"
   ]
  },
  {
   "cell_type": "markdown",
   "id": "a0376afd",
   "metadata": {},
   "source": [
    "This notebook explores the reviews dataset and trains a baseline TF‑IDF + Logistic Regression model."
   ]
  },
  {
   "cell_type": "code",
   "execution_count": null,
   "id": "cec8d00b",
   "metadata": {},
   "outputs": [],
   "source": [
    "import pandas as pd, numpy as np\n",
    "import matplotlib.pyplot as plt\n",
    "from collections import Counter\n",
    "from wordcloud import WordCloud\n",
    "from sklearn.model_selection import train_test_split\n",
    "from sklearn.feature_extraction.text import TfidfVectorizer\n",
    "from sklearn.linear_model import LogisticRegression\n",
    "from sklearn.metrics import classification_report, ConfusionMatrixDisplay\n",
    "import nltk, re\n",
    "from nltk.corpus import stopwords\n",
    "try:\n",
    "    _ = stopwords.words('english')\n",
    "except LookupError:\n",
    "    nltk.download('stopwords')\n",
    "    _ = stopwords.words('english')\n",
    "\n",
    "DATA_PATH = '../data/reviews.csv'  # ensure the file exists\n",
    "df = pd.read_csv(DATA_PATH)\n",
    "df.head()"
   ]
  },
  {
   "cell_type": "code",
   "execution_count": null,
   "id": "3abc36cd",
   "metadata": {},
   "outputs": [],
   "source": [
    "# Basic info\n",
    "print(df.shape)\n",
    "print(df['label'].value_counts())\n",
    "df['text'].str.len().describe()"
   ]
  },
  {
   "cell_type": "code",
   "execution_count": null,
   "id": "8799583e",
   "metadata": {},
   "outputs": [],
   "source": [
    "# Simple cleaner\n",
    "def clean_text(s):\n",
    "    s = str(s).lower()\n",
    "    s = re.sub(r\"[^a-z0-9'\\s]\", \" \", s)\n",
    "    s = re.sub(r\"\\s+\", \" \", s).strip()\n",
    "    return s\n",
    "\n",
    "df['clean'] = df['text'].map(clean_text)"
   ]
  },
  {
   "cell_type": "code",
   "execution_count": null,
   "id": "91b463a0",
   "metadata": {},
   "outputs": [],
   "source": [
    "# WordClouds for quick intuition (if classes exist)\n",
    "for cls in df['label'].unique():\n",
    "    texts = \" \".join(df.loc[df['label']==cls, 'clean'].tolist()[:5000])\n",
    "    if texts:\n",
    "        wc = WordCloud(width=900, height=500).generate(texts)\n",
    "        plt.figure()\n",
    "        plt.imshow(wc)\n",
    "        plt.axis('off')\n",
    "        plt.title(f'WordCloud — {cls}')\n",
    "        plt.show()"
   ]
  },
  {
   "cell_type": "code",
   "execution_count": null,
   "id": "a759ce1b",
   "metadata": {},
   "outputs": [],
   "source": [
    "# Train/test split + TF-IDF + Logistic Regression\n",
    "X_train, X_test, y_train, y_test = train_test_split(df['clean'], df['label'], test_size=0.2, random_state=42, stratify=df['label'])\n",
    "vec = TfidfVectorizer(ngram_range=(1,2), min_df=3, max_df=0.9, sublinear_tf=True)\n",
    "Xtr = vec.fit_transform(X_train)\n",
    "Xte = vec.transform(X_test)\n",
    "\n",
    "clf = LogisticRegression(max_iter=300)\n",
    "clf.fit(Xtr, y_train)\n",
    "pred = clf.predict(Xte)\n",
    "print(classification_report(y_test, pred))"
   ]
  },
  {
   "cell_type": "code",
   "execution_count": null,
   "id": "111b4842",
   "metadata": {},
   "outputs": [],
   "source": [
    "# Confusion matrix\n",
    "disp = ConfusionMatrixDisplay.from_predictions(y_test, pred)\n",
    "plt.title('Confusion Matrix')\n",
    "plt.show()"
   ]
  },
  {
   "cell_type": "code",
   "execution_count": null,
   "id": "9ace8501",
   "metadata": {},
   "outputs": [],
   "source": [
    "# Top weighted features for each class (one-vs-rest)\n",
    "import numpy as np\n",
    "feature_names = np.array(vec.get_feature_names_out())\n",
    "if hasattr(clf, 'coef_'):\n",
    "    coefs = clf.coef_\n",
    "    classes = clf.classes_\n",
    "    for i, cls in enumerate(classes):\n",
    "        top_pos_idx = np.argsort(coefs[i])[-15:][::-1]\n",
    "        print(f\"Top features for class '{cls}':\")\n",
    "        print(feature_names[top_pos_idx])\n"
   ]
  }
 ],
 "metadata": {},
 "nbformat": 4,
 "nbformat_minor": 5
}
